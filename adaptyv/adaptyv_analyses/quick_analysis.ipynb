{
 "cells": [
  {
   "cell_type": "code",
   "execution_count": 1,
   "metadata": {},
   "outputs": [],
   "source": [
    "import pandas as pd \n",
    "import numpy as np"
   ]
  },
  {
   "cell_type": "code",
   "execution_count": 61,
   "metadata": {},
   "outputs": [
    {
     "name": "stdout",
     "output_type": "stream",
     "text": [
      "Number of sequences labeled as RFdiffusion in original but missing in new: 0\n",
      "\n",
      "Missing sequences:\n",
      "Empty DataFrame\n",
      "Columns: [sequence, model_names]\n",
      "Index: []\n"
     ]
    }
   ],
   "source": [
    "df = pd.read_csv('./data/processed/design_submissions_final.csv')\n",
    "dff = pd.read_csv('./data/processed/all_submissions.csv')\n",
    "\n",
    "# Find sequences labeled as RFdiffusion in original but not in new dataset\n",
    "rfdiffusion_original = df[df['model_names'].str.contains('Rfdiffusion|rfdiffusion|RFdiffusion', na=False, case=False)]\n",
    "rfdiffusion_new = dff[dff['model_category'].str.contains('Rfdiffusion|rfdiffusion|RFdiffusion', na=False, case=False)]\n",
    "\n",
    "# Get sequences that were in original but not in new\n",
    "missing_rfdiffusion = rfdiffusion_original[~rfdiffusion_original['sequence'].isin(rfdiffusion_new['sequence'])]\n",
    "\n",
    "print(f\"Number of sequences labeled as RFdiffusion in original but missing in new: {len(missing_rfdiffusion)}\")\n",
    "print(\"\\nMissing sequences:\")\n",
    "print(missing_rfdiffusion[['sequence', 'model_names']])\n"
   ]
  },
  {
   "cell_type": "code",
   "execution_count": 39,
   "metadata": {},
   "outputs": [
    {
     "name": "stdout",
     "output_type": "stream",
     "text": [
      "(777, 13)\n",
      "726\n"
     ]
    }
   ],
   "source": [
    "print(df.shape)\n",
    "print(len(df['sequence'].unique()))"
   ]
  },
  {
   "cell_type": "code",
   "execution_count": 63,
   "metadata": {},
   "outputs": [],
   "source": [
    "df = pd.read_csv('./data/processed/all_submissions.csv')\n"
   ]
  },
  {
   "cell_type": "code",
   "execution_count": 43,
   "metadata": {},
   "outputs": [
    {
     "name": "stdout",
     "output_type": "stream",
     "text": [
      "Round 1: 50 participants, 726 submissions, 201 tested, 146 expressed, 7 binders, 20 unique models, 144 RFdiffusion, 0 Bindcraft, 23 Alphafold2 backpropagation, 47 ESM2\n",
      "Round 2: 130 participants, 1131 submissions, 400 tested, 378 expressed, 53 binders, 22 unique models, 245 RFdiffusion, 169 Bindcraft, 0 Alphafold2 backpropagation, 40 ESM2\n",
      "Total: 159 participants, 1857 submissions, 601 tested, 524 expressed, 60 binders, 38 unique models, 389 RFdiffusion, 169 Bindcraft, 23 Alphafold2 backpropagation, 87 ESM2\n"
     ]
    }
   ],
   "source": [
    "# Get round 1 stats\n",
    "round1_df = df[df['round'] == 1]\n",
    "round1_participants = len(round1_df['username'].unique())\n",
    "round1_submissions = len(round1_df['sequence'].unique())\n",
    "round1_variants_tested = len(round1_df[round1_df['selected'].isin(['Top 100', 'Adaptyv selection'])])\n",
    "round1_expressed = len(round1_df[round1_df['expression'].isin(['Low', 'Medium', 'High'])])\n",
    "round1_binders = len(round1_df[round1_df['binding'] == 'Yes'])\n",
    "round1_unique_models = len(round1_df['model_category'].unique())\n",
    "round1_rfdiffusion = len(round1_df[round1_df['model_category'].str.contains('Rfdiffusion|rfdiffusion|RFdiffusion', na=False, case = False)])\n",
    "round1_bindcraft = len(round1_df[round1_df['model_category'].str.contains('Bindcraft', na=False)])\n",
    "round1_alphafold2_backprop = len(round1_df[round1_df['model_category'].str.contains('Alphafold2 backpropagation', na=False)])\n",
    "round1_esm2 = len(round1_df[round1_df['model_category'].str.contains('Esm[23]|esm[23]|esm[23] mlde|Esm[23] mlde', na=False)])\n",
    "\n",
    "# Get round 2 stats  \n",
    "round2_df = df[df['round'] == 2]\n",
    "round2_participants = len(round2_df['username'].unique())\n",
    "round2_submissions = len(round2_df['sequence'].unique())\n",
    "round2_variants_tested = len(round2_df[round2_df['selected'].isin(['Top 100', 'Adaptyv selection'])])\n",
    "round2_expressed = len(round2_df[round2_df['expression'].isin(['Low', 'Medium', 'High'])])\n",
    "round2_binders = len(round2_df[round2_df['binding'] == 'Yes'])\n",
    "round2_unique_models = len(round2_df['model_category'].unique())\n",
    "round2_rfdiffusion = len(round2_df[round2_df['model_category'].str.contains('Rfdiffusion', na=False)])\n",
    "round2_bindcraft = len(round2_df[round2_df['model_category'].str.contains('Bindcraft', na=False)])\n",
    "round2_alphafold2_backprop = len(round2_df[round2_df['model_category'].str.contains('Alphafold2 backpropagation', na=False)])\n",
    "round2_esm2 = len(round2_df[round2_df['model_category'].str.contains('Esm[23]|esm[23]|esm[23] mlde|Esm[23] mlde', na=False)])\n",
    "\n",
    "# Get total stats\n",
    "total_participants = len(df['username'].unique())\n",
    "total_submissions = len(df['sequence'].unique())\n",
    "total_variants_tested = len(df[df['selected'].isin(['Top 100', 'Adaptyv selection'])])\n",
    "total_expressed = len(df[df['expression'].isin(['Low', 'Medium', 'High'])])\n",
    "total_binders = len(df[df['binding'] == 'Yes'])\n",
    "total_unique_models = len(df['model_category'].unique())\n",
    "total_rfdiffusion = len(df[df['model_category'].str.contains('Rfdiffusion', na=False)])\n",
    "total_bindcraft = len(df[df['model_category'].str.contains('Bindcraft', na=False)])\n",
    "total_alphafold2_backprop = len(df[df['model_category'].str.contains('Alphafold2 backpropagation', na=False)])\n",
    "total_esm2 = len(df[df['model_category'].str.contains('Esm[23]|esm[23]|esm[23] mlde|Esm[23] mlde', na=False)])\n",
    "\n",
    "print(f\"Round 1: {round1_participants} participants, {round1_submissions} submissions, {round1_variants_tested} tested, {round1_expressed} expressed, {round1_binders} binders, {round1_unique_models} unique models, {round1_rfdiffusion} RFdiffusion, {round1_bindcraft} Bindcraft, {round1_alphafold2_backprop} Alphafold2 backpropagation, {round1_esm2} ESM2\")\n",
    "print(f\"Round 2: {round2_participants} participants, {round2_submissions} submissions, {round2_variants_tested} tested, {round2_expressed} expressed, {round2_binders} binders, {round2_unique_models} unique models, {round2_rfdiffusion} RFdiffusion, {round2_bindcraft} Bindcraft, {round2_alphafold2_backprop} Alphafold2 backpropagation, {round2_esm2} ESM2\")\n",
    "print(f\"Total: {total_participants} participants, {total_submissions} submissions, {total_variants_tested} tested, {total_expressed} expressed, {total_binders} binders, {total_unique_models} unique models, {total_rfdiffusion} RFdiffusion, {total_bindcraft} Bindcraft, {total_alphafold2_backprop} Alphafold2 backpropagation, {total_esm2} ESM2\")"
   ]
  },
  {
   "cell_type": "code",
   "execution_count": null,
   "metadata": {},
   "outputs": [],
   "source": [
    "df['BindCraft'] = df['model_category'].apply(lambda x: 'Yes' if pd.notna(x) and 'Bindcraft' in x else 'No')\n",
    "df['RFdiffusion'] = df['model_category'].apply(lambda x: 'Yes' if pd.notna(x) and 'Rfdiffusion' in x else 'No')\n",
    "df['ESM'] = df['model_category'].apply(lambda x: 'Yes' if pd.notna(x) and any(term in x.lower() for term in ['esm2', 'esm3', 'esm[23]', 'esm[23] mlde']) else 'No')\n",
    "df['TIMED'] = df['design_process'].apply(lambda x: 'ProteinMPNN' if pd.notna(x) and any(term in x.lower() for term in ['proteinmpnn', 'ligandmpnn', 'solublempnn', 'mpnn']) else \n",
    "                                                  'TIMED' if pd.notna(x) and any(term in x.lower() for term in ['timed']) else \n",
    "                                                  'ESM-IF' if pd.notna(x) and any(term in x.lower() for term in ['esm-if', 'esm if', 'esm inverse folding', 'esmif', 'esm_if']) else\n",
    "                                                  'Other')\n",
    "df['AF2_backprop'] = df['model_category'].apply(lambda x: 'Yes' if pd.notna(x) and any(term in x.lower() for term in ['alphafold2 backpropagation', 'alphafold2 backprop', 'af2 backpropagation', 'af2 backprop']) else 'No')\n",
    "df['Other_hallucination'] = df['model_category'].apply(lambda x: 'Yes' if pd.notna(x) and 'hallucination' in x.lower() and not any(term in x.lower() for term in ['timed', 'TIMED', 'Timed']) else 'No')\n",
    "# Calculate totals using new columns\n",
    "# total_bindcraft = len(df[df['BindCraft'] == 'BindCraft'])\n",
    "# total_rfdiffusion = len(df[df['RFdiffusion'] == 'RFdiffusion'])\n",
    "# total_esm = len(df[df['ESM'] == 'ESM'])\n",
    "# total_timed = len(df[df['TIMED'] == 'TIMED'])\n",
    "# total_af2_backprop = len(df[df['AF2_backprop'] == 'AF2 backprop'])\n",
    "# total_other_hallucination = len(df[df['Other_hallucination'] == 'Other hallucination'])\n"
   ]
  }
 ],
 "metadata": {
  "kernelspec": {
   "display_name": "scicomp",
   "language": "python",
   "name": "python3"
  },
  "language_info": {
   "codemirror_mode": {
    "name": "ipython",
    "version": 3
   },
   "file_extension": ".py",
   "mimetype": "text/x-python",
   "name": "python",
   "nbconvert_exporter": "python",
   "pygments_lexer": "ipython3",
   "version": "3.10.5"
  }
 },
 "nbformat": 4,
 "nbformat_minor": 2
}
